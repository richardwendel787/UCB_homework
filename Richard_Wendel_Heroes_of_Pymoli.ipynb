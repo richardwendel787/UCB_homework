{
 "cells": [
  {
   "cell_type": "markdown",
   "metadata": {},
   "source": [
    "### Note\n",
    "* Instructions have been included for each segment. You do not have to follow them exactly, but they are included to help you think through the steps."
   ]
  },
  {
   "cell_type": "code",
   "execution_count": 46,
   "metadata": {},
   "outputs": [],
   "source": [
    "# Dependencies \n",
    "import pandas as pd\n",
    "import numpy as np\n",
    "\n",
    "# File to Load \n",
    "file_to_load = \"purchase_data.csv\"\n",
    "\n",
    "# Read Purchasing File e\n",
    "purchase_data = pd.read_csv(file_to_load)"
   ]
  },
  {
   "cell_type": "markdown",
   "metadata": {},
   "source": [
    "## Player Count"
   ]
  },
  {
   "cell_type": "markdown",
   "metadata": {},
   "source": [
    "* Display the total number of players\n"
   ]
  },
  {
   "cell_type": "code",
   "execution_count": 47,
   "metadata": {},
   "outputs": [
    {
     "data": {
      "text/html": [
       "<div>\n",
       "<style scoped>\n",
       "    .dataframe tbody tr th:only-of-type {\n",
       "        vertical-align: middle;\n",
       "    }\n",
       "\n",
       "    .dataframe tbody tr th {\n",
       "        vertical-align: top;\n",
       "    }\n",
       "\n",
       "    .dataframe thead th {\n",
       "        text-align: right;\n",
       "    }\n",
       "</style>\n",
       "<table border=\"1\" class=\"dataframe\">\n",
       "  <thead>\n",
       "    <tr style=\"text-align: right;\">\n",
       "      <th></th>\n",
       "      <th>Total Players</th>\n",
       "    </tr>\n",
       "  </thead>\n",
       "  <tbody>\n",
       "    <tr>\n",
       "      <td>0</td>\n",
       "      <td>576</td>\n",
       "    </tr>\n",
       "  </tbody>\n",
       "</table>\n",
       "</div>"
      ],
      "text/plain": [
       "   Total Players\n",
       "0            576"
      ]
     },
     "execution_count": 47,
     "metadata": {},
     "output_type": "execute_result"
    }
   ],
   "source": [
    "# Use the length of list of screen names \"SN\".\n",
    "total_number_of_players = len(purchase_data[\"SN\"].value_counts())\n",
    "\n",
    "# Create a data frame with total players and with player count\n",
    "total_player_count = pd.DataFrame({\"Total Players\":[total_number_of_players]})\n",
    "total_player_count"
   ]
  },
  {
   "cell_type": "markdown",
   "metadata": {},
   "source": [
    "## Purchasing Analysis (Total)"
   ]
  },
  {
   "cell_type": "markdown",
   "metadata": {},
   "source": [
    "* Run basic calculations to obtain number of unique items, average price, etc.\n",
    "\n",
    "\n",
    "* Create a summary data frame to hold the results\n",
    "\n",
    "\n",
    "* Optional: give the displayed data cleaner formatting\n",
    "\n",
    "\n",
    "* Display the summary data frame\n"
   ]
  },
  {
   "cell_type": "code",
   "execution_count": 48,
   "metadata": {
    "scrolled": true
   },
   "outputs": [
    {
     "data": {
      "text/html": [
       "<style  type=\"text/css\" >\n",
       "</style><table id=\"T_eead16ca_47f1_11ea_9ee1_6cc21770be11\" ><thead>    <tr>        <th class=\"blank level0\" ></th>        <th class=\"col_heading level0 col0\" >Number of Unique Items</th>        <th class=\"col_heading level0 col1\" >Average Price</th>        <th class=\"col_heading level0 col2\" >Number of Purchases</th>        <th class=\"col_heading level0 col3\" >Total Revenue</th>    </tr></thead><tbody>\n",
       "                <tr>\n",
       "                        <th id=\"T_eead16ca_47f1_11ea_9ee1_6cc21770be11level0_row0\" class=\"row_heading level0 row0\" >0</th>\n",
       "                        <td id=\"T_eead16ca_47f1_11ea_9ee1_6cc21770be11row0_col0\" class=\"data row0 col0\" >183</td>\n",
       "                        <td id=\"T_eead16ca_47f1_11ea_9ee1_6cc21770be11row0_col1\" class=\"data row0 col1\" >$3.05</td>\n",
       "                        <td id=\"T_eead16ca_47f1_11ea_9ee1_6cc21770be11row0_col2\" class=\"data row0 col2\" >780</td>\n",
       "                        <td id=\"T_eead16ca_47f1_11ea_9ee1_6cc21770be11row0_col3\" class=\"data row0 col3\" >$2,379.77</td>\n",
       "            </tr>\n",
       "    </tbody></table>"
      ],
      "text/plain": [
       "<pandas.io.formats.style.Styler at 0x217d20b4f48>"
      ]
     },
     "execution_count": 48,
     "metadata": {},
     "output_type": "execute_result"
    }
   ],
   "source": [
    "# Calculations \n",
    "number_of_unique_items = len((purchase_data[\"Item ID\"]).unique())\n",
    "average_price_per_item = (purchase_data[\"Price\"]).mean()\n",
    "total_number_of_purchases = (purchase_data[\"Purchase ID\"]).count()\n",
    "total_revenue = (purchase_data[\"Price\"]).sum()\n",
    "\n",
    "# data frame with obtained values\n",
    "total_summary_df = pd.DataFrame({\"Number of Unique Items\":[number_of_unique_items],\n",
    "                           \"Average Price\":[average_price_per_item], \n",
    "                           \"Number of Purchases\": [total_number_of_purchases], \n",
    "                           \"Total Revenue\": [total_revenue]})\n",
    "\n",
    "# Format\n",
    "total_summary_df.style.format({'Average Price':\"${:,.2f}\",\n",
    "                         'Total Revenue': '${:,.2f}'})"
   ]
  },
  {
   "cell_type": "markdown",
   "metadata": {},
   "source": [
    "## Gender Demographics"
   ]
  },
  {
   "cell_type": "markdown",
   "metadata": {},
   "source": [
    "* Percentage and Count of Male Players\n",
    "\n",
    "\n",
    "* Percentage and Count of Female Players\n",
    "\n",
    "\n",
    "* Percentage and Count of Other / Non-Disclosed\n",
    "\n",
    "\n"
   ]
  },
  {
   "cell_type": "code",
   "execution_count": 66,
   "metadata": {},
   "outputs": [
    {
     "data": {
      "text/html": [
       "<style  type=\"text/css\" >\n",
       "</style><table id=\"T_d64b65c0_47f2_11ea_9a31_6cc21770be11\" ><thead>    <tr>        <th class=\"blank level0\" ></th>        <th class=\"col_heading level0 col0\" >Percentage of Players</th>        <th class=\"col_heading level0 col1\" >Total Count</th>    </tr></thead><tbody>\n",
       "                <tr>\n",
       "                        <th id=\"T_d64b65c0_47f2_11ea_9a31_6cc21770be11level0_row0\" class=\"row_heading level0 row0\" >Male</th>\n",
       "                        <td id=\"T_d64b65c0_47f2_11ea_9a31_6cc21770be11row0_col0\" class=\"data row0 col0\" >84.03</td>\n",
       "                        <td id=\"T_d64b65c0_47f2_11ea_9a31_6cc21770be11row0_col1\" class=\"data row0 col1\" >484</td>\n",
       "            </tr>\n",
       "            <tr>\n",
       "                        <th id=\"T_d64b65c0_47f2_11ea_9a31_6cc21770be11level0_row1\" class=\"row_heading level0 row1\" >Female</th>\n",
       "                        <td id=\"T_d64b65c0_47f2_11ea_9a31_6cc21770be11row1_col0\" class=\"data row1 col0\" >14.06</td>\n",
       "                        <td id=\"T_d64b65c0_47f2_11ea_9a31_6cc21770be11row1_col1\" class=\"data row1 col1\" >81</td>\n",
       "            </tr>\n",
       "            <tr>\n",
       "                        <th id=\"T_d64b65c0_47f2_11ea_9a31_6cc21770be11level0_row2\" class=\"row_heading level0 row2\" >Other / Non-Disclosed</th>\n",
       "                        <td id=\"T_d64b65c0_47f2_11ea_9a31_6cc21770be11row2_col0\" class=\"data row2 col0\" >1.91</td>\n",
       "                        <td id=\"T_d64b65c0_47f2_11ea_9a31_6cc21770be11row2_col1\" class=\"data row2 col1\" >11</td>\n",
       "            </tr>\n",
       "    </tbody></table>"
      ],
      "text/plain": [
       "<pandas.io.formats.style.Styler at 0x217d235a308>"
      ]
     },
     "execution_count": 66,
     "metadata": {},
     "output_type": "execute_result"
    }
   ],
   "source": [
    "#purchase_data by Gender\n",
    "gender_statistics = purchase_data.groupby(\"Gender\")\n",
    "\n",
    "# Count total of screen names by gender\n",
    "total_gender_count = gender_statistics.nunique()[\"SN\"]\n",
    "\n",
    "# Total count by gender\n",
    "percent_of_players = total_count_gender / total_number_of_players * 100\n",
    "\n",
    "# Create data frame\n",
    "gender_breakdown = pd.DataFrame({\"Percentage of Players\": percent_of_players, \"Total Count\": total_count_gender})\n",
    "\n",
    "# Format the data frame\n",
    "gender_breakdown.index.name = None\n",
    "\n",
    "# Format the values sorted by total count \n",
    "gender_breakdown.sort_values([\"Total Count\"], ascending = False).style.format({\"Percentage of Players\":\"{:.2f}\"})"
   ]
  },
  {
   "cell_type": "markdown",
   "metadata": {},
   "source": [
    "\n",
    "## Purchasing Analysis (Gender)"
   ]
  },
  {
   "cell_type": "markdown",
   "metadata": {},
   "source": [
    "* Run basic calculations to obtain purchase count, avg. purchase price, avg. purchase total per person etc. by gender\n",
    "\n",
    "\n",
    "\n",
    "\n",
    "* Create a summary data frame to hold the results\n",
    "\n",
    "\n",
    "* Optional: give the displayed data cleaner formatting\n",
    "\n",
    "\n",
    "* Display the summary data frame"
   ]
  },
  {
   "cell_type": "code",
   "execution_count": 50,
   "metadata": {},
   "outputs": [
    {
     "data": {
      "text/html": [
       "<style  type=\"text/css\" >\n",
       "</style><table id=\"T_f03b2cde_47f1_11ea_ae0a_6cc21770be11\" ><thead>    <tr>        <th class=\"blank level0\" ></th>        <th class=\"col_heading level0 col0\" >Purchase Count</th>        <th class=\"col_heading level0 col1\" >Average Purchase Price</th>        <th class=\"col_heading level0 col2\" >Average Purchase Value</th>        <th class=\"col_heading level0 col3\" >Avg Purchase Total per Person</th>    </tr>    <tr>        <th class=\"index_name level0\" >Gender</th>        <th class=\"blank\" ></th>        <th class=\"blank\" ></th>        <th class=\"blank\" ></th>        <th class=\"blank\" ></th>    </tr></thead><tbody>\n",
       "                <tr>\n",
       "                        <th id=\"T_f03b2cde_47f1_11ea_ae0a_6cc21770be11level0_row0\" class=\"row_heading level0 row0\" >Female</th>\n",
       "                        <td id=\"T_f03b2cde_47f1_11ea_ae0a_6cc21770be11row0_col0\" class=\"data row0 col0\" >113</td>\n",
       "                        <td id=\"T_f03b2cde_47f1_11ea_ae0a_6cc21770be11row0_col1\" class=\"data row0 col1\" >$3.20</td>\n",
       "                        <td id=\"T_f03b2cde_47f1_11ea_ae0a_6cc21770be11row0_col2\" class=\"data row0 col2\" >$361.94</td>\n",
       "                        <td id=\"T_f03b2cde_47f1_11ea_ae0a_6cc21770be11row0_col3\" class=\"data row0 col3\" >$4.47</td>\n",
       "            </tr>\n",
       "            <tr>\n",
       "                        <th id=\"T_f03b2cde_47f1_11ea_ae0a_6cc21770be11level0_row1\" class=\"row_heading level0 row1\" >Male</th>\n",
       "                        <td id=\"T_f03b2cde_47f1_11ea_ae0a_6cc21770be11row1_col0\" class=\"data row1 col0\" >652</td>\n",
       "                        <td id=\"T_f03b2cde_47f1_11ea_ae0a_6cc21770be11row1_col1\" class=\"data row1 col1\" >$3.02</td>\n",
       "                        <td id=\"T_f03b2cde_47f1_11ea_ae0a_6cc21770be11row1_col2\" class=\"data row1 col2\" >$1,967.64</td>\n",
       "                        <td id=\"T_f03b2cde_47f1_11ea_ae0a_6cc21770be11row1_col3\" class=\"data row1 col3\" >$4.07</td>\n",
       "            </tr>\n",
       "            <tr>\n",
       "                        <th id=\"T_f03b2cde_47f1_11ea_ae0a_6cc21770be11level0_row2\" class=\"row_heading level0 row2\" >Other / Non-Disclosed</th>\n",
       "                        <td id=\"T_f03b2cde_47f1_11ea_ae0a_6cc21770be11row2_col0\" class=\"data row2 col0\" >15</td>\n",
       "                        <td id=\"T_f03b2cde_47f1_11ea_ae0a_6cc21770be11row2_col1\" class=\"data row2 col1\" >$3.35</td>\n",
       "                        <td id=\"T_f03b2cde_47f1_11ea_ae0a_6cc21770be11row2_col2\" class=\"data row2 col2\" >$50.19</td>\n",
       "                        <td id=\"T_f03b2cde_47f1_11ea_ae0a_6cc21770be11row2_col3\" class=\"data row2 col3\" >$4.56</td>\n",
       "            </tr>\n",
       "    </tbody></table>"
      ],
      "text/plain": [
       "<pandas.io.formats.style.Styler at 0x217d231f088>"
      ]
     },
     "execution_count": 50,
     "metadata": {},
     "output_type": "execute_result"
    }
   ],
   "source": [
    "# Count total purchases by gender \n",
    "purchase_count = gender_statistics[\"Purchase ID\"].count()\n",
    "\n",
    "# Average purchase price by gender\n",
    "average_purchase_price = gender_statistics[\"Price\"].mean()\n",
    "\n",
    "# Average purchase price total by gender \n",
    "average_purchase_total = gender_statistics[\"Price\"].sum()\n",
    "\n",
    "# Average purchase per person\n",
    "average_purchase_per_person = average_purchase_total/total_gender_count\n",
    "\n",
    "# Create data frame \n",
    "gender_demographic_make_up = pd.DataFrame({\"Purchase Count\": purchase_count, \n",
    "                                    \"Average Purchase Price\": average_purchase_price,\n",
    "                                    \"Average Purchase Value\":average_purchase_total,\n",
    "                                    \"Avg Purchase Total per Person\": average_purchase_per_person})\n",
    "\n",
    "# Provide index \n",
    "gender_demographic_make_up.index.name = \"Gender\"\n",
    "\n",
    "# Format \n",
    "gender_demographic_make_up.style.format({\"Average Purchase Value\":\"${:,.2f}\",\n",
    "                                  \"Average Purchase Price\":\"${:,.2f}\",\n",
    "                                  \"Avg Purchase Total per Person\":\"${:,.2f}\"})"
   ]
  },
  {
   "cell_type": "markdown",
   "metadata": {},
   "source": [
    "## Age Demographics"
   ]
  },
  {
   "cell_type": "markdown",
   "metadata": {},
   "source": [
    "* Establish bins for ages\n",
    "\n",
    "\n",
    "* Categorize the existing players using the age bins. Hint: use pd.cut()\n",
    "\n",
    "\n",
    "* Calculate the numbers and percentages by age group\n",
    "\n",
    "\n",
    "* Create a summary data frame to hold the results\n",
    "\n",
    "\n",
    "* Optional: round the percentage column to two decimal points\n",
    "\n",
    "\n",
    "* Display Age Demographics Table\n"
   ]
  },
  {
   "cell_type": "code",
   "execution_count": 51,
   "metadata": {},
   "outputs": [
    {
     "data": {
      "text/html": [
       "<style  type=\"text/css\" >\n",
       "</style><table id=\"T_f0a22c9a_47f1_11ea_bf8a_6cc21770be11\" ><thead>    <tr>        <th class=\"blank level0\" ></th>        <th class=\"col_heading level0 col0\" >Percentage of Players</th>        <th class=\"col_heading level0 col1\" >Total Count</th>    </tr></thead><tbody>\n",
       "                <tr>\n",
       "                        <th id=\"T_f0a22c9a_47f1_11ea_bf8a_6cc21770be11level0_row0\" class=\"row_heading level0 row0\" ><10</th>\n",
       "                        <td id=\"T_f0a22c9a_47f1_11ea_bf8a_6cc21770be11row0_col0\" class=\"data row0 col0\" >2.95</td>\n",
       "                        <td id=\"T_f0a22c9a_47f1_11ea_bf8a_6cc21770be11row0_col1\" class=\"data row0 col1\" >17</td>\n",
       "            </tr>\n",
       "            <tr>\n",
       "                        <th id=\"T_f0a22c9a_47f1_11ea_bf8a_6cc21770be11level0_row1\" class=\"row_heading level0 row1\" >10-14</th>\n",
       "                        <td id=\"T_f0a22c9a_47f1_11ea_bf8a_6cc21770be11row1_col0\" class=\"data row1 col0\" >3.82</td>\n",
       "                        <td id=\"T_f0a22c9a_47f1_11ea_bf8a_6cc21770be11row1_col1\" class=\"data row1 col1\" >22</td>\n",
       "            </tr>\n",
       "            <tr>\n",
       "                        <th id=\"T_f0a22c9a_47f1_11ea_bf8a_6cc21770be11level0_row2\" class=\"row_heading level0 row2\" >15-19</th>\n",
       "                        <td id=\"T_f0a22c9a_47f1_11ea_bf8a_6cc21770be11row2_col0\" class=\"data row2 col0\" >18.58</td>\n",
       "                        <td id=\"T_f0a22c9a_47f1_11ea_bf8a_6cc21770be11row2_col1\" class=\"data row2 col1\" >107</td>\n",
       "            </tr>\n",
       "            <tr>\n",
       "                        <th id=\"T_f0a22c9a_47f1_11ea_bf8a_6cc21770be11level0_row3\" class=\"row_heading level0 row3\" >20-24</th>\n",
       "                        <td id=\"T_f0a22c9a_47f1_11ea_bf8a_6cc21770be11row3_col0\" class=\"data row3 col0\" >44.79</td>\n",
       "                        <td id=\"T_f0a22c9a_47f1_11ea_bf8a_6cc21770be11row3_col1\" class=\"data row3 col1\" >258</td>\n",
       "            </tr>\n",
       "            <tr>\n",
       "                        <th id=\"T_f0a22c9a_47f1_11ea_bf8a_6cc21770be11level0_row4\" class=\"row_heading level0 row4\" >25-29</th>\n",
       "                        <td id=\"T_f0a22c9a_47f1_11ea_bf8a_6cc21770be11row4_col0\" class=\"data row4 col0\" >13.37</td>\n",
       "                        <td id=\"T_f0a22c9a_47f1_11ea_bf8a_6cc21770be11row4_col1\" class=\"data row4 col1\" >77</td>\n",
       "            </tr>\n",
       "            <tr>\n",
       "                        <th id=\"T_f0a22c9a_47f1_11ea_bf8a_6cc21770be11level0_row5\" class=\"row_heading level0 row5\" >30-34</th>\n",
       "                        <td id=\"T_f0a22c9a_47f1_11ea_bf8a_6cc21770be11row5_col0\" class=\"data row5 col0\" >9.03</td>\n",
       "                        <td id=\"T_f0a22c9a_47f1_11ea_bf8a_6cc21770be11row5_col1\" class=\"data row5 col1\" >52</td>\n",
       "            </tr>\n",
       "            <tr>\n",
       "                        <th id=\"T_f0a22c9a_47f1_11ea_bf8a_6cc21770be11level0_row6\" class=\"row_heading level0 row6\" >35-39</th>\n",
       "                        <td id=\"T_f0a22c9a_47f1_11ea_bf8a_6cc21770be11row6_col0\" class=\"data row6 col0\" >5.38</td>\n",
       "                        <td id=\"T_f0a22c9a_47f1_11ea_bf8a_6cc21770be11row6_col1\" class=\"data row6 col1\" >31</td>\n",
       "            </tr>\n",
       "            <tr>\n",
       "                        <th id=\"T_f0a22c9a_47f1_11ea_bf8a_6cc21770be11level0_row7\" class=\"row_heading level0 row7\" >40+</th>\n",
       "                        <td id=\"T_f0a22c9a_47f1_11ea_bf8a_6cc21770be11row7_col0\" class=\"data row7 col0\" >2.08</td>\n",
       "                        <td id=\"T_f0a22c9a_47f1_11ea_bf8a_6cc21770be11row7_col1\" class=\"data row7 col1\" >12</td>\n",
       "            </tr>\n",
       "    </tbody></table>"
      ],
      "text/plain": [
       "<pandas.io.formats.style.Styler at 0x217d22bcd08>"
      ]
     },
     "execution_count": 51,
     "metadata": {},
     "output_type": "execute_result"
    }
   ],
   "source": [
    "\n",
    "# Establish age bins\n",
    "age_bins = [0, 9.90, 14.90, 19.90, 24.90, 29.90, 34.90, 39.90, 99999]\n",
    "ranges = [\"<10\", \"10-14\", \"15-19\", \"20-24\", \"25-29\", \"30-34\", \"35-39\", \"40+\"]\n",
    "\n",
    "# Segment and sort age values \n",
    "purchase_data[\"Age Group\"] = pd.cut(purchase_data[\"Age\"],age_bins, labels=ranges)\n",
    "purchase_data\n",
    "\n",
    "# Create new data frame\n",
    "age_range = purchase_data.groupby(\"Age Group\")\n",
    "\n",
    "# total players by age\n",
    "total_age_count = age_range[\"SN\"].nunique()\n",
    "\n",
    "# Calculate percentages by age \n",
    "percent_by_age = (total_age_count/total_number_of_players) * 100\n",
    "\n",
    "# Create data frame \n",
    "age_demographics = pd.DataFrame({\"Percentage of Players\": percent_by_age, \"Total Count\": total_age_count})\n",
    "\n",
    "# Format the data frame \n",
    "age_demographics.index.name = None\n",
    "\n",
    "# Format percentage  \n",
    "age_demographics.style.format({\"Percentage of Players\":\"{:,.2f}\"})"
   ]
  },
  {
   "cell_type": "markdown",
   "metadata": {},
   "source": [
    "## Purchasing Analysis (Age)"
   ]
  },
  {
   "cell_type": "markdown",
   "metadata": {},
   "source": [
    "* Bin the purchase_data data frame by age\n",
    "\n",
    "\n",
    "* Run basic calculations to obtain purchase count, avg. purchase price, avg. purchase total per person etc. in the table below\n",
    "\n",
    "\n",
    "* Create a summary data frame to hold the results\n",
    "\n",
    "\n",
    "* Optional: give the displayed data cleaner formatting\n",
    "\n",
    "\n",
    "* Display the summary data frame"
   ]
  },
  {
   "cell_type": "code",
   "execution_count": 52,
   "metadata": {},
   "outputs": [
    {
     "data": {
      "text/html": [
       "<style  type=\"text/css\" >\n",
       "</style><table id=\"T_f1052e7a_47f1_11ea_b937_6cc21770be11\" ><thead>    <tr>        <th class=\"blank level0\" ></th>        <th class=\"col_heading level0 col0\" >Purchase Count</th>        <th class=\"col_heading level0 col1\" >Average Purchase Price</th>        <th class=\"col_heading level0 col2\" >Total Purchase Value</th>        <th class=\"col_heading level0 col3\" >Average Purchase Total per Person</th>    </tr></thead><tbody>\n",
       "                <tr>\n",
       "                        <th id=\"T_f1052e7a_47f1_11ea_b937_6cc21770be11level0_row0\" class=\"row_heading level0 row0\" ><10</th>\n",
       "                        <td id=\"T_f1052e7a_47f1_11ea_b937_6cc21770be11row0_col0\" class=\"data row0 col0\" >23</td>\n",
       "                        <td id=\"T_f1052e7a_47f1_11ea_b937_6cc21770be11row0_col1\" class=\"data row0 col1\" >$3.35</td>\n",
       "                        <td id=\"T_f1052e7a_47f1_11ea_b937_6cc21770be11row0_col2\" class=\"data row0 col2\" >$77.13</td>\n",
       "                        <td id=\"T_f1052e7a_47f1_11ea_b937_6cc21770be11row0_col3\" class=\"data row0 col3\" >$4.54</td>\n",
       "            </tr>\n",
       "            <tr>\n",
       "                        <th id=\"T_f1052e7a_47f1_11ea_b937_6cc21770be11level0_row1\" class=\"row_heading level0 row1\" >10-14</th>\n",
       "                        <td id=\"T_f1052e7a_47f1_11ea_b937_6cc21770be11row1_col0\" class=\"data row1 col0\" >28</td>\n",
       "                        <td id=\"T_f1052e7a_47f1_11ea_b937_6cc21770be11row1_col1\" class=\"data row1 col1\" >$2.96</td>\n",
       "                        <td id=\"T_f1052e7a_47f1_11ea_b937_6cc21770be11row1_col2\" class=\"data row1 col2\" >$82.78</td>\n",
       "                        <td id=\"T_f1052e7a_47f1_11ea_b937_6cc21770be11row1_col3\" class=\"data row1 col3\" >$3.76</td>\n",
       "            </tr>\n",
       "            <tr>\n",
       "                        <th id=\"T_f1052e7a_47f1_11ea_b937_6cc21770be11level0_row2\" class=\"row_heading level0 row2\" >15-19</th>\n",
       "                        <td id=\"T_f1052e7a_47f1_11ea_b937_6cc21770be11row2_col0\" class=\"data row2 col0\" >136</td>\n",
       "                        <td id=\"T_f1052e7a_47f1_11ea_b937_6cc21770be11row2_col1\" class=\"data row2 col1\" >$3.04</td>\n",
       "                        <td id=\"T_f1052e7a_47f1_11ea_b937_6cc21770be11row2_col2\" class=\"data row2 col2\" >$412.89</td>\n",
       "                        <td id=\"T_f1052e7a_47f1_11ea_b937_6cc21770be11row2_col3\" class=\"data row2 col3\" >$3.86</td>\n",
       "            </tr>\n",
       "            <tr>\n",
       "                        <th id=\"T_f1052e7a_47f1_11ea_b937_6cc21770be11level0_row3\" class=\"row_heading level0 row3\" >20-24</th>\n",
       "                        <td id=\"T_f1052e7a_47f1_11ea_b937_6cc21770be11row3_col0\" class=\"data row3 col0\" >365</td>\n",
       "                        <td id=\"T_f1052e7a_47f1_11ea_b937_6cc21770be11row3_col1\" class=\"data row3 col1\" >$3.05</td>\n",
       "                        <td id=\"T_f1052e7a_47f1_11ea_b937_6cc21770be11row3_col2\" class=\"data row3 col2\" >$1,114.06</td>\n",
       "                        <td id=\"T_f1052e7a_47f1_11ea_b937_6cc21770be11row3_col3\" class=\"data row3 col3\" >$4.32</td>\n",
       "            </tr>\n",
       "            <tr>\n",
       "                        <th id=\"T_f1052e7a_47f1_11ea_b937_6cc21770be11level0_row4\" class=\"row_heading level0 row4\" >25-29</th>\n",
       "                        <td id=\"T_f1052e7a_47f1_11ea_b937_6cc21770be11row4_col0\" class=\"data row4 col0\" >101</td>\n",
       "                        <td id=\"T_f1052e7a_47f1_11ea_b937_6cc21770be11row4_col1\" class=\"data row4 col1\" >$2.90</td>\n",
       "                        <td id=\"T_f1052e7a_47f1_11ea_b937_6cc21770be11row4_col2\" class=\"data row4 col2\" >$293.00</td>\n",
       "                        <td id=\"T_f1052e7a_47f1_11ea_b937_6cc21770be11row4_col3\" class=\"data row4 col3\" >$3.81</td>\n",
       "            </tr>\n",
       "            <tr>\n",
       "                        <th id=\"T_f1052e7a_47f1_11ea_b937_6cc21770be11level0_row5\" class=\"row_heading level0 row5\" >30-34</th>\n",
       "                        <td id=\"T_f1052e7a_47f1_11ea_b937_6cc21770be11row5_col0\" class=\"data row5 col0\" >73</td>\n",
       "                        <td id=\"T_f1052e7a_47f1_11ea_b937_6cc21770be11row5_col1\" class=\"data row5 col1\" >$2.93</td>\n",
       "                        <td id=\"T_f1052e7a_47f1_11ea_b937_6cc21770be11row5_col2\" class=\"data row5 col2\" >$214.00</td>\n",
       "                        <td id=\"T_f1052e7a_47f1_11ea_b937_6cc21770be11row5_col3\" class=\"data row5 col3\" >$4.12</td>\n",
       "            </tr>\n",
       "            <tr>\n",
       "                        <th id=\"T_f1052e7a_47f1_11ea_b937_6cc21770be11level0_row6\" class=\"row_heading level0 row6\" >35-39</th>\n",
       "                        <td id=\"T_f1052e7a_47f1_11ea_b937_6cc21770be11row6_col0\" class=\"data row6 col0\" >41</td>\n",
       "                        <td id=\"T_f1052e7a_47f1_11ea_b937_6cc21770be11row6_col1\" class=\"data row6 col1\" >$3.60</td>\n",
       "                        <td id=\"T_f1052e7a_47f1_11ea_b937_6cc21770be11row6_col2\" class=\"data row6 col2\" >$147.67</td>\n",
       "                        <td id=\"T_f1052e7a_47f1_11ea_b937_6cc21770be11row6_col3\" class=\"data row6 col3\" >$4.76</td>\n",
       "            </tr>\n",
       "            <tr>\n",
       "                        <th id=\"T_f1052e7a_47f1_11ea_b937_6cc21770be11level0_row7\" class=\"row_heading level0 row7\" >40+</th>\n",
       "                        <td id=\"T_f1052e7a_47f1_11ea_b937_6cc21770be11row7_col0\" class=\"data row7 col0\" >13</td>\n",
       "                        <td id=\"T_f1052e7a_47f1_11ea_b937_6cc21770be11row7_col1\" class=\"data row7 col1\" >$2.94</td>\n",
       "                        <td id=\"T_f1052e7a_47f1_11ea_b937_6cc21770be11row7_col2\" class=\"data row7 col2\" >$38.24</td>\n",
       "                        <td id=\"T_f1052e7a_47f1_11ea_b937_6cc21770be11row7_col3\" class=\"data row7 col3\" >$3.19</td>\n",
       "            </tr>\n",
       "    </tbody></table>"
      ],
      "text/plain": [
       "<pandas.io.formats.style.Styler at 0x217d22e8348>"
      ]
     },
     "execution_count": 52,
     "metadata": {},
     "output_type": "execute_result"
    }
   ],
   "source": [
    "# purchases by age group count\n",
    "purchasing_age = age_range[\"Purchase ID\"].count()\n",
    "\n",
    "# Obtain average purchase price as a function of age\n",
    "avg_purchase_price_age = age_range[\"Price\"].mean()\n",
    "\n",
    "# Calculate total purchase value as a function of age\n",
    "total_value_of_purchase = age_range[\"Price\"].sum()\n",
    "\n",
    "# Calculate average purchase per person by age\n",
    "average_purchase_per_person_age = total_purchase_value/total_count_age\n",
    "\n",
    "# Create data frame\n",
    "age_demographics = pd.DataFrame({\"Purchase Count\": purchasing_age,\n",
    "                                 \"Average Purchase Price\": avg_purchase_price_age,\n",
    "                                 \"Total Purchase Value\":total_value_of_purchase,\n",
    "                                 \"Average Purchase Total per Person\": average_purchase_per_person_age})\n",
    "\n",
    "# Format data frame\n",
    "age_demographics.index.name = None\n",
    "\n",
    "# Format \n",
    "age_demographics.style.format({\"Average Purchase Price\":\"${:,.2f}\",\n",
    "                               \"Total Purchase Value\":\"${:,.2f}\",\n",
    "                               \"Average Purchase Total per Person\":\"${:,.2f}\"})"
   ]
  },
  {
   "cell_type": "markdown",
   "metadata": {},
   "source": [
    "## Top Spenders"
   ]
  },
  {
   "cell_type": "markdown",
   "metadata": {},
   "source": [
    "* Run basic calculations to obtain the results in the table below\n",
    "\n",
    "\n",
    "* Create a summary data frame to hold the results\n",
    "\n",
    "\n",
    "* Sort the total purchase value column in descending order\n",
    "\n",
    "\n",
    "* Optional: give the displayed data cleaner formatting\n",
    "\n",
    "\n",
    "* Display a preview of the summary data frame\n",
    "\n"
   ]
  },
  {
   "cell_type": "code",
   "execution_count": 53,
   "metadata": {},
   "outputs": [
    {
     "data": {
      "text/html": [
       "<style  type=\"text/css\" >\n",
       "</style><table id=\"T_f15fb706_47f1_11ea_abca_6cc21770be11\" ><thead>    <tr>        <th class=\"blank level0\" ></th>        <th class=\"col_heading level0 col0\" >Purchase Count</th>        <th class=\"col_heading level0 col1\" >Average Purchase Price</th>        <th class=\"col_heading level0 col2\" >Total Purchase Value</th>    </tr>    <tr>        <th class=\"index_name level0\" >SN</th>        <th class=\"blank\" ></th>        <th class=\"blank\" ></th>        <th class=\"blank\" ></th>    </tr></thead><tbody>\n",
       "                <tr>\n",
       "                        <th id=\"T_f15fb706_47f1_11ea_abca_6cc21770be11level0_row0\" class=\"row_heading level0 row0\" >Lisosia93</th>\n",
       "                        <td id=\"T_f15fb706_47f1_11ea_abca_6cc21770be11row0_col0\" class=\"data row0 col0\" >5</td>\n",
       "                        <td id=\"T_f15fb706_47f1_11ea_abca_6cc21770be11row0_col1\" class=\"data row0 col1\" >$3.79</td>\n",
       "                        <td id=\"T_f15fb706_47f1_11ea_abca_6cc21770be11row0_col2\" class=\"data row0 col2\" >$18.96</td>\n",
       "            </tr>\n",
       "            <tr>\n",
       "                        <th id=\"T_f15fb706_47f1_11ea_abca_6cc21770be11level0_row1\" class=\"row_heading level0 row1\" >Idastidru52</th>\n",
       "                        <td id=\"T_f15fb706_47f1_11ea_abca_6cc21770be11row1_col0\" class=\"data row1 col0\" >4</td>\n",
       "                        <td id=\"T_f15fb706_47f1_11ea_abca_6cc21770be11row1_col1\" class=\"data row1 col1\" >$3.86</td>\n",
       "                        <td id=\"T_f15fb706_47f1_11ea_abca_6cc21770be11row1_col2\" class=\"data row1 col2\" >$15.45</td>\n",
       "            </tr>\n",
       "            <tr>\n",
       "                        <th id=\"T_f15fb706_47f1_11ea_abca_6cc21770be11level0_row2\" class=\"row_heading level0 row2\" >Chamjask73</th>\n",
       "                        <td id=\"T_f15fb706_47f1_11ea_abca_6cc21770be11row2_col0\" class=\"data row2 col0\" >3</td>\n",
       "                        <td id=\"T_f15fb706_47f1_11ea_abca_6cc21770be11row2_col1\" class=\"data row2 col1\" >$4.61</td>\n",
       "                        <td id=\"T_f15fb706_47f1_11ea_abca_6cc21770be11row2_col2\" class=\"data row2 col2\" >$13.83</td>\n",
       "            </tr>\n",
       "            <tr>\n",
       "                        <th id=\"T_f15fb706_47f1_11ea_abca_6cc21770be11level0_row3\" class=\"row_heading level0 row3\" >Iral74</th>\n",
       "                        <td id=\"T_f15fb706_47f1_11ea_abca_6cc21770be11row3_col0\" class=\"data row3 col0\" >4</td>\n",
       "                        <td id=\"T_f15fb706_47f1_11ea_abca_6cc21770be11row3_col1\" class=\"data row3 col1\" >$3.40</td>\n",
       "                        <td id=\"T_f15fb706_47f1_11ea_abca_6cc21770be11row3_col2\" class=\"data row3 col2\" >$13.62</td>\n",
       "            </tr>\n",
       "            <tr>\n",
       "                        <th id=\"T_f15fb706_47f1_11ea_abca_6cc21770be11level0_row4\" class=\"row_heading level0 row4\" >Iskadarya95</th>\n",
       "                        <td id=\"T_f15fb706_47f1_11ea_abca_6cc21770be11row4_col0\" class=\"data row4 col0\" >3</td>\n",
       "                        <td id=\"T_f15fb706_47f1_11ea_abca_6cc21770be11row4_col1\" class=\"data row4 col1\" >$4.37</td>\n",
       "                        <td id=\"T_f15fb706_47f1_11ea_abca_6cc21770be11row4_col2\" class=\"data row4 col2\" >$13.10</td>\n",
       "            </tr>\n",
       "    </tbody></table>"
      ],
      "text/plain": [
       "<pandas.io.formats.style.Styler at 0x217d22f5808>"
      ]
     },
     "execution_count": 53,
     "metadata": {},
     "output_type": "execute_result"
    }
   ],
   "source": [
    "# Group purchase by screen names\n",
    "spender_statistics = purchase_data.groupby(\"SN\")\n",
    "\n",
    "# Count the total purchases as a function of name\n",
    "total_purchasing_spender_count = spender_statistics[\"Purchase ID\"].count()\n",
    "\n",
    "# average purchase by name \n",
    "averageg_purchasing_price_spender = spender_statistics[\"Price\"].mean()\n",
    "\n",
    "# Calculate total of purchases \n",
    "total_purchasing_spender = spender_statistics[\"Price\"].sum()\n",
    "\n",
    "# Create data frame \n",
    "biggest_spenders = pd.DataFrame({\"Purchase Count\": total_purchasing_spender_count,\n",
    "                             \"Average Purchase Price\": averageg_purchasing_price_spender,\n",
    "                             \"Total Purchase Value\":total_purchasing_spender})\n",
    "\n",
    "# Sort in descending order; use head for top 5\n",
    "spenders_formatted = biggest_spenders.sort_values([\"Total Purchase Value\"], ascending=False).head()\n",
    "\n",
    "# Format\n",
    "spenders_formatted.style.format({\"Average Purchase Total\":\"${:,.2f}\",\n",
    "                                 \"Average Purchase Price\":\"${:,.2f}\", \n",
    "                                 \"Total Purchase Value\":\"${:,.2f}\"})"
   ]
  },
  {
   "cell_type": "markdown",
   "metadata": {},
   "source": [
    "## Most Popular Items"
   ]
  },
  {
   "cell_type": "markdown",
   "metadata": {},
   "source": [
    "* Retrieve the Item ID, Item Name, and Item Price columns\n",
    "\n",
    "\n",
    "* Group by Item ID and Item Name. Perform calculations to obtain purchase count, item price, and total purchase value\n",
    "\n",
    "\n",
    "* Create a summary data frame to hold the results\n",
    "\n",
    "\n",
    "* Sort the purchase count column in descending order\n",
    "\n",
    "\n",
    "* Optional: give the displayed data cleaner formatting\n",
    "\n",
    "\n",
    "* Display a preview of the summary data frame\n",
    "\n"
   ]
  },
  {
   "cell_type": "code",
   "execution_count": 54,
   "metadata": {},
   "outputs": [
    {
     "data": {
      "text/html": [
       "<style  type=\"text/css\" >\n",
       "</style><table id=\"T_f1ba5146_47f1_11ea_94ee_6cc21770be11\" ><thead>    <tr>        <th class=\"blank\" ></th>        <th class=\"blank level0\" ></th>        <th class=\"col_heading level0 col0\" >Purchase Count</th>        <th class=\"col_heading level0 col1\" >Item Price</th>        <th class=\"col_heading level0 col2\" >Total Purchase Value</th>    </tr>    <tr>        <th class=\"index_name level0\" >Item ID</th>        <th class=\"index_name level1\" >Item Name</th>        <th class=\"blank\" ></th>        <th class=\"blank\" ></th>        <th class=\"blank\" ></th>    </tr></thead><tbody>\n",
       "                <tr>\n",
       "                        <th id=\"T_f1ba5146_47f1_11ea_94ee_6cc21770be11level0_row0\" class=\"row_heading level0 row0\" >178</th>\n",
       "                        <th id=\"T_f1ba5146_47f1_11ea_94ee_6cc21770be11level1_row0\" class=\"row_heading level1 row0\" >Oathbreaker, Last Hope of the Breaking Storm</th>\n",
       "                        <td id=\"T_f1ba5146_47f1_11ea_94ee_6cc21770be11row0_col0\" class=\"data row0 col0\" >12</td>\n",
       "                        <td id=\"T_f1ba5146_47f1_11ea_94ee_6cc21770be11row0_col1\" class=\"data row0 col1\" >$4.23</td>\n",
       "                        <td id=\"T_f1ba5146_47f1_11ea_94ee_6cc21770be11row0_col2\" class=\"data row0 col2\" >$50.76</td>\n",
       "            </tr>\n",
       "            <tr>\n",
       "                        <th id=\"T_f1ba5146_47f1_11ea_94ee_6cc21770be11level0_row1\" class=\"row_heading level0 row1\" >145</th>\n",
       "                        <th id=\"T_f1ba5146_47f1_11ea_94ee_6cc21770be11level1_row1\" class=\"row_heading level1 row1\" >Fiery Glass Crusader</th>\n",
       "                        <td id=\"T_f1ba5146_47f1_11ea_94ee_6cc21770be11row1_col0\" class=\"data row1 col0\" >9</td>\n",
       "                        <td id=\"T_f1ba5146_47f1_11ea_94ee_6cc21770be11row1_col1\" class=\"data row1 col1\" >$4.58</td>\n",
       "                        <td id=\"T_f1ba5146_47f1_11ea_94ee_6cc21770be11row1_col2\" class=\"data row1 col2\" >$41.22</td>\n",
       "            </tr>\n",
       "            <tr>\n",
       "                        <th id=\"T_f1ba5146_47f1_11ea_94ee_6cc21770be11level0_row2\" class=\"row_heading level0 row2\" >108</th>\n",
       "                        <th id=\"T_f1ba5146_47f1_11ea_94ee_6cc21770be11level1_row2\" class=\"row_heading level1 row2\" >Extraction, Quickblade Of Trembling Hands</th>\n",
       "                        <td id=\"T_f1ba5146_47f1_11ea_94ee_6cc21770be11row2_col0\" class=\"data row2 col0\" >9</td>\n",
       "                        <td id=\"T_f1ba5146_47f1_11ea_94ee_6cc21770be11row2_col1\" class=\"data row2 col1\" >$3.53</td>\n",
       "                        <td id=\"T_f1ba5146_47f1_11ea_94ee_6cc21770be11row2_col2\" class=\"data row2 col2\" >$31.77</td>\n",
       "            </tr>\n",
       "            <tr>\n",
       "                        <th id=\"T_f1ba5146_47f1_11ea_94ee_6cc21770be11level0_row3\" class=\"row_heading level0 row3\" >82</th>\n",
       "                        <th id=\"T_f1ba5146_47f1_11ea_94ee_6cc21770be11level1_row3\" class=\"row_heading level1 row3\" >Nirvana</th>\n",
       "                        <td id=\"T_f1ba5146_47f1_11ea_94ee_6cc21770be11row3_col0\" class=\"data row3 col0\" >9</td>\n",
       "                        <td id=\"T_f1ba5146_47f1_11ea_94ee_6cc21770be11row3_col1\" class=\"data row3 col1\" >$4.90</td>\n",
       "                        <td id=\"T_f1ba5146_47f1_11ea_94ee_6cc21770be11row3_col2\" class=\"data row3 col2\" >$44.10</td>\n",
       "            </tr>\n",
       "            <tr>\n",
       "                        <th id=\"T_f1ba5146_47f1_11ea_94ee_6cc21770be11level0_row4\" class=\"row_heading level0 row4\" >19</th>\n",
       "                        <th id=\"T_f1ba5146_47f1_11ea_94ee_6cc21770be11level1_row4\" class=\"row_heading level1 row4\" >Pursuit, Cudgel of Necromancy</th>\n",
       "                        <td id=\"T_f1ba5146_47f1_11ea_94ee_6cc21770be11row4_col0\" class=\"data row4 col0\" >8</td>\n",
       "                        <td id=\"T_f1ba5146_47f1_11ea_94ee_6cc21770be11row4_col1\" class=\"data row4 col1\" >$1.02</td>\n",
       "                        <td id=\"T_f1ba5146_47f1_11ea_94ee_6cc21770be11row4_col2\" class=\"data row4 col2\" >$8.16</td>\n",
       "            </tr>\n",
       "    </tbody></table>"
      ],
      "text/plain": [
       "<pandas.io.formats.style.Styler at 0x217d22ec948>"
      ]
     },
     "execution_count": 54,
     "metadata": {},
     "output_type": "execute_result"
    }
   ],
   "source": [
    "# Create new data frame \n",
    "all_items = purchase_data[[\"Item ID\", \"Item Name\", \"Price\"]]\n",
    "\n",
    "# Group by item id and item name \n",
    "item_statistics = all_items.groupby([\"Item ID\",\"Item Name\"])\n",
    "\n",
    "# number of times an item has been purchased\n",
    "purchasing_count_item = item_statistics[\"Price\"].count()\n",
    "\n",
    "# price per item\n",
    "purchasing_value = (item_stats[\"Price\"].sum()) \n",
    "\n",
    "# individual item price\n",
    "price_of_item = purchasing_value/purchasing_count_item\n",
    "\n",
    "# Create data frame\n",
    "most_obtained_items = pd.DataFrame({\"Purchase Count\": purchasing_count_item, \n",
    "                                   \"Item Price\": price_of_item,\n",
    "                                   \"Total Purchase Value\":purchasing_value})\n",
    "\n",
    "# Sort in descending order\n",
    "popular_formatted = most_obtained_items.sort_values([\"Purchase Count\"], ascending=False).head()\n",
    "\n",
    "# Format \n",
    "popular_formatted.style.format({\"Item Price\":\"${:,.2f}\",\n",
    "                                \"Total Purchase Value\":\"${:,.2f}\"})"
   ]
  },
  {
   "cell_type": "markdown",
   "metadata": {},
   "source": [
    "## Most Profitable Items"
   ]
  },
  {
   "cell_type": "markdown",
   "metadata": {},
   "source": [
    "* Sort the above table by total purchase value in descending order\n",
    "\n",
    "\n",
    "* Optional: give the displayed data cleaner formatting\n",
    "\n",
    "\n",
    "* Display a preview of the data frame\n",
    "\n"
   ]
  },
  {
   "cell_type": "code",
   "execution_count": 55,
   "metadata": {
    "scrolled": true
   },
   "outputs": [
    {
     "data": {
      "text/html": [
       "<style  type=\"text/css\" >\n",
       "</style><table id=\"T_f2521224_47f1_11ea_bd9b_6cc21770be11\" ><thead>    <tr>        <th class=\"blank\" ></th>        <th class=\"blank level0\" ></th>        <th class=\"col_heading level0 col0\" >Purchase Count</th>        <th class=\"col_heading level0 col1\" >Item Price</th>        <th class=\"col_heading level0 col2\" >Total Purchase Value</th>    </tr>    <tr>        <th class=\"index_name level0\" >Item ID</th>        <th class=\"index_name level1\" >Item Name</th>        <th class=\"blank\" ></th>        <th class=\"blank\" ></th>        <th class=\"blank\" ></th>    </tr></thead><tbody>\n",
       "                <tr>\n",
       "                        <th id=\"T_f2521224_47f1_11ea_bd9b_6cc21770be11level0_row0\" class=\"row_heading level0 row0\" >178</th>\n",
       "                        <th id=\"T_f2521224_47f1_11ea_bd9b_6cc21770be11level1_row0\" class=\"row_heading level1 row0\" >Oathbreaker, Last Hope of the Breaking Storm</th>\n",
       "                        <td id=\"T_f2521224_47f1_11ea_bd9b_6cc21770be11row0_col0\" class=\"data row0 col0\" >12</td>\n",
       "                        <td id=\"T_f2521224_47f1_11ea_bd9b_6cc21770be11row0_col1\" class=\"data row0 col1\" >$4.23</td>\n",
       "                        <td id=\"T_f2521224_47f1_11ea_bd9b_6cc21770be11row0_col2\" class=\"data row0 col2\" >$50.76</td>\n",
       "            </tr>\n",
       "            <tr>\n",
       "                        <th id=\"T_f2521224_47f1_11ea_bd9b_6cc21770be11level0_row1\" class=\"row_heading level0 row1\" >82</th>\n",
       "                        <th id=\"T_f2521224_47f1_11ea_bd9b_6cc21770be11level1_row1\" class=\"row_heading level1 row1\" >Nirvana</th>\n",
       "                        <td id=\"T_f2521224_47f1_11ea_bd9b_6cc21770be11row1_col0\" class=\"data row1 col0\" >9</td>\n",
       "                        <td id=\"T_f2521224_47f1_11ea_bd9b_6cc21770be11row1_col1\" class=\"data row1 col1\" >$4.90</td>\n",
       "                        <td id=\"T_f2521224_47f1_11ea_bd9b_6cc21770be11row1_col2\" class=\"data row1 col2\" >$44.10</td>\n",
       "            </tr>\n",
       "            <tr>\n",
       "                        <th id=\"T_f2521224_47f1_11ea_bd9b_6cc21770be11level0_row2\" class=\"row_heading level0 row2\" >145</th>\n",
       "                        <th id=\"T_f2521224_47f1_11ea_bd9b_6cc21770be11level1_row2\" class=\"row_heading level1 row2\" >Fiery Glass Crusader</th>\n",
       "                        <td id=\"T_f2521224_47f1_11ea_bd9b_6cc21770be11row2_col0\" class=\"data row2 col0\" >9</td>\n",
       "                        <td id=\"T_f2521224_47f1_11ea_bd9b_6cc21770be11row2_col1\" class=\"data row2 col1\" >$4.58</td>\n",
       "                        <td id=\"T_f2521224_47f1_11ea_bd9b_6cc21770be11row2_col2\" class=\"data row2 col2\" >$41.22</td>\n",
       "            </tr>\n",
       "            <tr>\n",
       "                        <th id=\"T_f2521224_47f1_11ea_bd9b_6cc21770be11level0_row3\" class=\"row_heading level0 row3\" >92</th>\n",
       "                        <th id=\"T_f2521224_47f1_11ea_bd9b_6cc21770be11level1_row3\" class=\"row_heading level1 row3\" >Final Critic</th>\n",
       "                        <td id=\"T_f2521224_47f1_11ea_bd9b_6cc21770be11row3_col0\" class=\"data row3 col0\" >8</td>\n",
       "                        <td id=\"T_f2521224_47f1_11ea_bd9b_6cc21770be11row3_col1\" class=\"data row3 col1\" >$4.88</td>\n",
       "                        <td id=\"T_f2521224_47f1_11ea_bd9b_6cc21770be11row3_col2\" class=\"data row3 col2\" >$39.04</td>\n",
       "            </tr>\n",
       "            <tr>\n",
       "                        <th id=\"T_f2521224_47f1_11ea_bd9b_6cc21770be11level0_row4\" class=\"row_heading level0 row4\" >103</th>\n",
       "                        <th id=\"T_f2521224_47f1_11ea_bd9b_6cc21770be11level1_row4\" class=\"row_heading level1 row4\" >Singed Scalpel</th>\n",
       "                        <td id=\"T_f2521224_47f1_11ea_bd9b_6cc21770be11row4_col0\" class=\"data row4 col0\" >8</td>\n",
       "                        <td id=\"T_f2521224_47f1_11ea_bd9b_6cc21770be11row4_col1\" class=\"data row4 col1\" >$4.35</td>\n",
       "                        <td id=\"T_f2521224_47f1_11ea_bd9b_6cc21770be11row4_col2\" class=\"data row4 col2\" >$34.80</td>\n",
       "            </tr>\n",
       "    </tbody></table>"
      ],
      "text/plain": [
       "<pandas.io.formats.style.Styler at 0x217d22c8348>"
      ]
     },
     "execution_count": 55,
     "metadata": {},
     "output_type": "execute_result"
    }
   ],
   "source": [
    "\n",
    "# most_popular items \n",
    "popular_formatted = most_obtained_items.sort_values([\"Total Purchase Value\"],\n",
    "                                                   ascending=False).head()\n",
    "# Format \n",
    "popular_formatted.style.format({\"Item Price\":\"${:,.2f}\",\n",
    "                                \"Total Purchase Value\":\"${:,.2f}\"})"
   ]
  }
 ],
 "metadata": {
  "anaconda-cloud": {},
  "kernel_info": {
   "name": "python3"
  },
  "kernelspec": {
   "display_name": "Python 3",
   "language": "python",
   "name": "python3"
  },
  "language_info": {
   "codemirror_mode": {
    "name": "ipython",
    "version": 3
   },
   "file_extension": ".py",
   "mimetype": "text/x-python",
   "name": "python",
   "nbconvert_exporter": "python",
   "pygments_lexer": "ipython3",
   "version": "3.7.4"
  },
  "latex_envs": {
   "LaTeX_envs_menu_present": true,
   "autoclose": false,
   "autocomplete": true,
   "bibliofile": "biblio.bib",
   "cite_by": "apalike",
   "current_citInitial": 1,
   "eqLabelWithNumbers": true,
   "eqNumInitial": 1,
   "hotkeys": {
    "equation": "Ctrl-E",
    "itemize": "Ctrl-I"
   },
   "labels_anchors": false,
   "latex_user_defs": false,
   "report_style_numbering": false,
   "user_envs_cfg": false
  },
  "nteract": {
   "version": "0.2.0"
  }
 },
 "nbformat": 4,
 "nbformat_minor": 2
}
